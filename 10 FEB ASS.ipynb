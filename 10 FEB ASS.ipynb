{
 "cells": [
  {
   "cell_type": "markdown",
   "id": "dada3d37",
   "metadata": {},
   "source": [
    "#QNO.1 ANS\n",
    " open() function is used to open a file in Python. The different modes of opening a file are:\n",
    "\n",
    "'r' (Read Mode): This mode is used for reading the content of a file. It is the default mode of file opening. If the file does not exist, it will raise an error.\n",
    "'w' (Write Mode): This mode is used for writing content to a file. If the file does not exist, it creates a new file. If the file already exists, it overwrites the content of the file.\n",
    "'a' (Append Mode): This mode is used for adding content to an existing file. If the file does not exist, it creates a new file.\n",
    "'x' (Exclusive Creation Mode): This mode is used for creating a new file. If the file already exists, it raises an error.\n",
    "'b' (Binary Mode): This mode is used for reading or writing binary data to a file.\n",
    "'t' (Text Mode): This mode is used for reading or writing text data to a file. It is the default mode of file opening."
   ]
  },
  {
   "cell_type": "markdown",
   "id": "0c7cd2e5",
   "metadata": {},
   "source": [
    "#Q2 ANS\n",
    "The close() function is used to close a file after it has been opened. It is important to close a file because it frees up system resources that were being used to keep the file open. If a file is not closed, it can cause issues with other programs that need to access the file."
   ]
  },
  {
   "cell_type": "markdown",
   "id": "759c5aa6",
   "metadata": {},
   "source": [
    "#Q3 ANS"
   ]
  },
  {
   "cell_type": "code",
   "execution_count": 2,
   "id": "7f02c746",
   "metadata": {},
   "outputs": [
    {
     "name": "stdout",
     "output_type": "stream",
     "text": [
      "I want to become a Data Scientist\n"
     ]
    }
   ],
   "source": [
    "# Creating a file named 'sample.txt' in write mode\n",
    "file = open('sample.txt', 'w')\n",
    "\n",
    "# Writing 'I want to become a Data Scientist' to the file\n",
    "file.write('I want to become a Data Scientist')\n",
    "\n",
    "# Closing the file\n",
    "file.close()\n",
    "\n",
    "# Opening the file in read mode\n",
    "file = open('sample.txt', 'r')\n",
    "\n",
    "# Reading the content of the file\n",
    "content = file.read()\n",
    "\n",
    "# Printing the content of the file\n",
    "print(content)\n",
    "\n",
    "# Closing the file\n",
    "file.close()\n"
   ]
  },
  {
   "cell_type": "markdown",
   "id": "8c8650b7",
   "metadata": {},
   "source": [
    "#Q4 ANS"
   ]
  },
  {
   "cell_type": "markdown",
   "id": "46ff68bd",
   "metadata": {},
   "source": [
    "The following are the explanations of read(), readline(), and readlines() functions in Python:\n",
    "\n",
    "read(): This function is used to read the entire content of a file. It returns the content of the file as a string."
   ]
  },
  {
   "cell_type": "code",
   "execution_count": 3,
   "id": "4cfd7413",
   "metadata": {},
   "outputs": [
    {
     "name": "stdout",
     "output_type": "stream",
     "text": [
      "I want to become a Data Scientist\n"
     ]
    }
   ],
   "source": [
    "file = open('sample.txt', 'r')\n",
    "\n",
    "\n",
    "content = file.read()\n",
    "\n",
    "\n",
    "print(content)\n",
    "\n",
    "\n",
    "file.close()\n"
   ]
  },
  {
   "cell_type": "markdown",
   "id": "df22cd2a",
   "metadata": {},
   "source": [
    "readline(): This function is used to read a single line from a file. It returns the line as a string."
   ]
  },
  {
   "cell_type": "code",
   "execution_count": 5,
   "id": "b28307d6",
   "metadata": {},
   "outputs": [
    {
     "name": "stdout",
     "output_type": "stream",
     "text": [
      "I want to become a Data Scientist\n"
     ]
    }
   ],
   "source": [
    "file = open('sample.txt', 'r')\n",
    "\n",
    "\n",
    "line = file.readline()\n",
    "\n",
    "\n",
    "print(line)\n",
    "\n",
    "\n",
    "file.close()\n"
   ]
  },
  {
   "cell_type": "markdown",
   "id": "670331ec",
   "metadata": {},
   "source": [
    "readlines(): This function is used to read all the lines of a file and returns them as a list of strings."
   ]
  },
  {
   "cell_type": "code",
   "execution_count": 6,
   "id": "7c6d7374",
   "metadata": {},
   "outputs": [
    {
     "name": "stdout",
     "output_type": "stream",
     "text": [
      "I want to become a Data Scientist\n"
     ]
    }
   ],
   "source": [
    "file = open('sample.txt', 'r')\n",
    "\n",
    "\n",
    "lines = file.readlines()\n",
    "\n",
    "\n",
    "for line in lines:\n",
    "    print(line)\n",
    "\n",
    "\n",
    "file.close()\n"
   ]
  },
  {
   "cell_type": "markdown",
   "id": "e8360510",
   "metadata": {},
   "source": [
    "#Q5 ANS\n",
    " The with statement is used with open() to ensure that the file is closed automatically after it has been opened. The advantage of using `"
   ]
  },
  {
   "cell_type": "markdown",
   "id": "cef9e266",
   "metadata": {},
   "source": [
    "#Q6 ANS\n",
    "The write() function in Python is used to write data to a file. It takes a single string as input and writes it to the file opened in write mode. If the file doesn't exist, it creates one with the specified name. If the file exists, it overwrites the existing data with the new data.\n",
    "\n"
   ]
  },
  {
   "cell_type": "code",
   "execution_count": 10,
   "id": "3153afa5",
   "metadata": {},
   "outputs": [],
   "source": [
    "file = open(\"example.txt\", \"w\")\n",
    "\n",
    "file.write(\"Hello, World!\\n\")\n",
    "\n",
    "file.close()\n"
   ]
  },
  {
   "cell_type": "code",
   "execution_count": null,
   "id": "cd998ad5",
   "metadata": {},
   "outputs": [],
   "source": []
  }
 ],
 "metadata": {
  "kernelspec": {
   "display_name": "Python 3 (ipykernel)",
   "language": "python",
   "name": "python3"
  },
  "language_info": {
   "codemirror_mode": {
    "name": "ipython",
    "version": 3
   },
   "file_extension": ".py",
   "mimetype": "text/x-python",
   "name": "python",
   "nbconvert_exporter": "python",
   "pygments_lexer": "ipython3",
   "version": "3.9.13"
  }
 },
 "nbformat": 4,
 "nbformat_minor": 5
}
